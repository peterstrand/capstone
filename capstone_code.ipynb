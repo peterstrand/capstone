{
 "cells": [
  {
   "cell_type": "markdown",
   "id": "354914e7-0fd5-4411-843e-fc0e99c5d568",
   "metadata": {},
   "source": [
    "# Capstone Project\n",
    "\n",
    "Author: Peter Strand\n",
    "\n",
    "---\n",
    "\n",
    "### Importing Required Libraries\n"
   ]
  },
  {
   "cell_type": "code",
   "execution_count": 2,
   "id": "a5d0e114-3d49-4713-a6bb-3f28e9d12f50",
   "metadata": {},
   "outputs": [],
   "source": [
    "import pandas as pd\n",
    "import datetime\n",
    "import math\n",
    "import os"
   ]
  },
  {
   "cell_type": "markdown",
   "id": "1307fb40-3f0f-4a96-beb6-4ae78141b7bb",
   "metadata": {},
   "source": [
    "Defining the filename and corresponding sheet names to be used throughout document"
   ]
  },
  {
   "cell_type": "code",
   "execution_count": 3,
   "id": "9cdc6c81-e263-4a90-8054-8ae45768b37e",
   "metadata": {},
   "outputs": [],
   "source": [
    "filename = f\"{os.getcwd()}/data/I70_Traffic.xlsx\"\n",
    "\n",
    "sheetname_counts = 'I70_counts'\n",
    "sheetname_stations = 'I70A_stations'\n",
    "sheetname_grades = 'Highway_Grades_in_2021'\n",
    "sheetname_mile_marker = 'mile_marker'\n",
    "sheetname_curves = 'Highway_Curves_in_2021'\n",
    "sheetname_pop = 'Population_County'\n",
    "\n",
    "output_folder = 'output'\n",
    "\n",
    "if not os.path.exists(output_folder):\n",
    "    os.makedirs(output_folder)"
   ]
  },
  {
   "cell_type": "markdown",
   "id": "3ed14ad0-2883-4caf-8d3c-8857eb2d31e1",
   "metadata": {},
   "source": [
    "## Defining the initial Traffic Count dataset"
   ]
  },
  {
   "cell_type": "code",
   "execution_count": 4,
   "id": "ceb09219-8c24-4993-b7f3-eefc95d97444",
   "metadata": {},
   "outputs": [],
   "source": [
    "traffic = pd.read_excel(filename,sheetname_counts)"
   ]
  },
  {
   "cell_type": "markdown",
   "id": "d4bacbd5-3263-41cd-856d-cbec0c4beec4",
   "metadata": {},
   "source": [
    "#### Data Cleaning\n",
    "\n",
    "---"
   ]
  },
  {
   "cell_type": "code",
   "execution_count": 5,
   "id": "f8e8fbf3-2b4f-41e5-8b81-2998781b0f14",
   "metadata": {},
   "outputs": [
    {
     "data": {
      "text/html": [
       "<div>\n",
       "<style scoped>\n",
       "    .dataframe tbody tr th:only-of-type {\n",
       "        vertical-align: middle;\n",
       "    }\n",
       "\n",
       "    .dataframe tbody tr th {\n",
       "        vertical-align: top;\n",
       "    }\n",
       "\n",
       "    .dataframe thead th {\n",
       "        text-align: right;\n",
       "    }\n",
       "</style>\n",
       "<table border=\"1\" class=\"dataframe\">\n",
       "  <thead>\n",
       "    <tr style=\"text-align: right;\">\n",
       "      <th></th>\n",
       "      <th>COUNTLOCATION</th>\n",
       "      <th>ROUTE</th>\n",
       "      <th>COUNTSTATIONID</th>\n",
       "      <th>DIRECTION</th>\n",
       "      <th>COUNTDATE</th>\n",
       "      <th>CALYR</th>\n",
       "      <th>DAYOFWEEK</th>\n",
       "      <th>HOUR0</th>\n",
       "      <th>HOUR1</th>\n",
       "      <th>HOUR2</th>\n",
       "      <th>...</th>\n",
       "      <th>HOUR14</th>\n",
       "      <th>HOUR15</th>\n",
       "      <th>HOUR16</th>\n",
       "      <th>HOUR17</th>\n",
       "      <th>HOUR18</th>\n",
       "      <th>HOUR19</th>\n",
       "      <th>HOUR20</th>\n",
       "      <th>HOUR21</th>\n",
       "      <th>HOUR22</th>\n",
       "      <th>HOUR23</th>\n",
       "    </tr>\n",
       "  </thead>\n",
       "  <tbody>\n",
       "    <tr>\n",
       "      <th>0</th>\n",
       "      <td>ON I-70 W/O SH 36, AIR PARK RD, AURORA</td>\n",
       "      <td>070A</td>\n",
       "      <td>2</td>\n",
       "      <td>P</td>\n",
       "      <td>20180822</td>\n",
       "      <td>2018</td>\n",
       "      <td>4</td>\n",
       "      <td>134</td>\n",
       "      <td>85</td>\n",
       "      <td>78</td>\n",
       "      <td>...</td>\n",
       "      <td>966</td>\n",
       "      <td>1196</td>\n",
       "      <td>1243</td>\n",
       "      <td>1359</td>\n",
       "      <td>993</td>\n",
       "      <td>670</td>\n",
       "      <td>506</td>\n",
       "      <td>348</td>\n",
       "      <td>292</td>\n",
       "      <td>186</td>\n",
       "    </tr>\n",
       "    <tr>\n",
       "      <th>1</th>\n",
       "      <td>ON I-70 W/O SH 36, AIR PARK RD, AURORA</td>\n",
       "      <td>070A</td>\n",
       "      <td>2</td>\n",
       "      <td>P</td>\n",
       "      <td>20180907</td>\n",
       "      <td>2018</td>\n",
       "      <td>6</td>\n",
       "      <td>156</td>\n",
       "      <td>103</td>\n",
       "      <td>99</td>\n",
       "      <td>...</td>\n",
       "      <td>957</td>\n",
       "      <td>1167</td>\n",
       "      <td>1341</td>\n",
       "      <td>1380</td>\n",
       "      <td>1050</td>\n",
       "      <td>759</td>\n",
       "      <td>625</td>\n",
       "      <td>483</td>\n",
       "      <td>409</td>\n",
       "      <td>259</td>\n",
       "    </tr>\n",
       "    <tr>\n",
       "      <th>2</th>\n",
       "      <td>ON I-70 W/O SH 36, AIR PARK RD, AURORA</td>\n",
       "      <td>070A</td>\n",
       "      <td>2</td>\n",
       "      <td>P</td>\n",
       "      <td>20180906</td>\n",
       "      <td>2018</td>\n",
       "      <td>5</td>\n",
       "      <td>133</td>\n",
       "      <td>96</td>\n",
       "      <td>86</td>\n",
       "      <td>...</td>\n",
       "      <td>988</td>\n",
       "      <td>1149</td>\n",
       "      <td>1311</td>\n",
       "      <td>1305</td>\n",
       "      <td>1013</td>\n",
       "      <td>742</td>\n",
       "      <td>533</td>\n",
       "      <td>405</td>\n",
       "      <td>288</td>\n",
       "      <td>192</td>\n",
       "    </tr>\n",
       "    <tr>\n",
       "      <th>3</th>\n",
       "      <td>ON I-70 W/O SH 36, AIR PARK RD, AURORA</td>\n",
       "      <td>070A</td>\n",
       "      <td>2</td>\n",
       "      <td>P</td>\n",
       "      <td>20180829</td>\n",
       "      <td>2018</td>\n",
       "      <td>4</td>\n",
       "      <td>137</td>\n",
       "      <td>85</td>\n",
       "      <td>79</td>\n",
       "      <td>...</td>\n",
       "      <td>901</td>\n",
       "      <td>1133</td>\n",
       "      <td>1360</td>\n",
       "      <td>1349</td>\n",
       "      <td>979</td>\n",
       "      <td>657</td>\n",
       "      <td>585</td>\n",
       "      <td>409</td>\n",
       "      <td>333</td>\n",
       "      <td>172</td>\n",
       "    </tr>\n",
       "    <tr>\n",
       "      <th>4</th>\n",
       "      <td>ON I-70 W/O SH 36, AIR PARK RD, AURORA</td>\n",
       "      <td>070A</td>\n",
       "      <td>2</td>\n",
       "      <td>P</td>\n",
       "      <td>20180828</td>\n",
       "      <td>2018</td>\n",
       "      <td>3</td>\n",
       "      <td>97</td>\n",
       "      <td>105</td>\n",
       "      <td>79</td>\n",
       "      <td>...</td>\n",
       "      <td>873</td>\n",
       "      <td>1093</td>\n",
       "      <td>1266</td>\n",
       "      <td>1355</td>\n",
       "      <td>959</td>\n",
       "      <td>717</td>\n",
       "      <td>578</td>\n",
       "      <td>401</td>\n",
       "      <td>251</td>\n",
       "      <td>161</td>\n",
       "    </tr>\n",
       "    <tr>\n",
       "      <th>...</th>\n",
       "      <td>...</td>\n",
       "      <td>...</td>\n",
       "      <td>...</td>\n",
       "      <td>...</td>\n",
       "      <td>...</td>\n",
       "      <td>...</td>\n",
       "      <td>...</td>\n",
       "      <td>...</td>\n",
       "      <td>...</td>\n",
       "      <td>...</td>\n",
       "      <td>...</td>\n",
       "      <td>...</td>\n",
       "      <td>...</td>\n",
       "      <td>...</td>\n",
       "      <td>...</td>\n",
       "      <td>...</td>\n",
       "      <td>...</td>\n",
       "      <td>...</td>\n",
       "      <td>...</td>\n",
       "      <td>...</td>\n",
       "      <td>...</td>\n",
       "    </tr>\n",
       "    <tr>\n",
       "      <th>55066</th>\n",
       "      <td>ON I-70 W/O HAVANA ST, DENVER</td>\n",
       "      <td>070A</td>\n",
       "      <td>103078</td>\n",
       "      <td>S</td>\n",
       "      <td>20230126</td>\n",
       "      <td>2023</td>\n",
       "      <td>5</td>\n",
       "      <td>1048</td>\n",
       "      <td>693</td>\n",
       "      <td>650</td>\n",
       "      <td>...</td>\n",
       "      <td>7655</td>\n",
       "      <td>8095</td>\n",
       "      <td>8043</td>\n",
       "      <td>7370</td>\n",
       "      <td>6004</td>\n",
       "      <td>5325</td>\n",
       "      <td>4245</td>\n",
       "      <td>3487</td>\n",
       "      <td>2340</td>\n",
       "      <td>2129</td>\n",
       "    </tr>\n",
       "    <tr>\n",
       "      <th>55067</th>\n",
       "      <td>ON I-70 W/O HAVANA ST, DENVER</td>\n",
       "      <td>070A</td>\n",
       "      <td>103078</td>\n",
       "      <td>S</td>\n",
       "      <td>20230125</td>\n",
       "      <td>2023</td>\n",
       "      <td>4</td>\n",
       "      <td>911</td>\n",
       "      <td>621</td>\n",
       "      <td>591</td>\n",
       "      <td>...</td>\n",
       "      <td>7310</td>\n",
       "      <td>7844</td>\n",
       "      <td>7698</td>\n",
       "      <td>7022</td>\n",
       "      <td>5829</td>\n",
       "      <td>4901</td>\n",
       "      <td>3543</td>\n",
       "      <td>2988</td>\n",
       "      <td>2343</td>\n",
       "      <td>1737</td>\n",
       "    </tr>\n",
       "    <tr>\n",
       "      <th>55068</th>\n",
       "      <td>ON I-70 W/O HAVANA ST, DENVER</td>\n",
       "      <td>070A</td>\n",
       "      <td>103078</td>\n",
       "      <td>S</td>\n",
       "      <td>20230124</td>\n",
       "      <td>2023</td>\n",
       "      <td>3</td>\n",
       "      <td>965</td>\n",
       "      <td>767</td>\n",
       "      <td>641</td>\n",
       "      <td>...</td>\n",
       "      <td>7115</td>\n",
       "      <td>8306</td>\n",
       "      <td>7676</td>\n",
       "      <td>7146</td>\n",
       "      <td>5811</td>\n",
       "      <td>4402</td>\n",
       "      <td>3256</td>\n",
       "      <td>2506</td>\n",
       "      <td>2101</td>\n",
       "      <td>1327</td>\n",
       "    </tr>\n",
       "    <tr>\n",
       "      <th>55069</th>\n",
       "      <td>ON I-70 W/O HAVANA ST, DENVER</td>\n",
       "      <td>070A</td>\n",
       "      <td>103078</td>\n",
       "      <td>S</td>\n",
       "      <td>20230123</td>\n",
       "      <td>2023</td>\n",
       "      <td>2</td>\n",
       "      <td>1338</td>\n",
       "      <td>740</td>\n",
       "      <td>661</td>\n",
       "      <td>...</td>\n",
       "      <td>7171</td>\n",
       "      <td>7879</td>\n",
       "      <td>7567</td>\n",
       "      <td>6832</td>\n",
       "      <td>5369</td>\n",
       "      <td>4437</td>\n",
       "      <td>3198</td>\n",
       "      <td>2617</td>\n",
       "      <td>2098</td>\n",
       "      <td>1478</td>\n",
       "    </tr>\n",
       "    <tr>\n",
       "      <th>55070</th>\n",
       "      <td>ON I-70 W/O HAVANA ST, DENVER</td>\n",
       "      <td>070A</td>\n",
       "      <td>103078</td>\n",
       "      <td>S</td>\n",
       "      <td>20230205</td>\n",
       "      <td>2023</td>\n",
       "      <td>1</td>\n",
       "      <td>1382</td>\n",
       "      <td>941</td>\n",
       "      <td>944</td>\n",
       "      <td>...</td>\n",
       "      <td>6754</td>\n",
       "      <td>6605</td>\n",
       "      <td>6596</td>\n",
       "      <td>5786</td>\n",
       "      <td>5434</td>\n",
       "      <td>4789</td>\n",
       "      <td>4192</td>\n",
       "      <td>3066</td>\n",
       "      <td>2389</td>\n",
       "      <td>1807</td>\n",
       "    </tr>\n",
       "  </tbody>\n",
       "</table>\n",
       "<p>55071 rows × 31 columns</p>\n",
       "</div>"
      ],
      "text/plain": [
       "                                COUNTLOCATION ROUTE  COUNTSTATIONID DIRECTION  \\\n",
       "0      ON I-70 W/O SH 36, AIR PARK RD, AURORA  070A               2         P   \n",
       "1      ON I-70 W/O SH 36, AIR PARK RD, AURORA  070A               2         P   \n",
       "2      ON I-70 W/O SH 36, AIR PARK RD, AURORA  070A               2         P   \n",
       "3      ON I-70 W/O SH 36, AIR PARK RD, AURORA  070A               2         P   \n",
       "4      ON I-70 W/O SH 36, AIR PARK RD, AURORA  070A               2         P   \n",
       "...                                       ...   ...             ...       ...   \n",
       "55066           ON I-70 W/O HAVANA ST, DENVER  070A          103078         S   \n",
       "55067           ON I-70 W/O HAVANA ST, DENVER  070A          103078         S   \n",
       "55068           ON I-70 W/O HAVANA ST, DENVER  070A          103078         S   \n",
       "55069           ON I-70 W/O HAVANA ST, DENVER  070A          103078         S   \n",
       "55070           ON I-70 W/O HAVANA ST, DENVER  070A          103078         S   \n",
       "\n",
       "       COUNTDATE  CALYR  DAYOFWEEK  HOUR0  HOUR1  HOUR2  ...  HOUR14  HOUR15  \\\n",
       "0       20180822   2018          4    134     85     78  ...     966    1196   \n",
       "1       20180907   2018          6    156    103     99  ...     957    1167   \n",
       "2       20180906   2018          5    133     96     86  ...     988    1149   \n",
       "3       20180829   2018          4    137     85     79  ...     901    1133   \n",
       "4       20180828   2018          3     97    105     79  ...     873    1093   \n",
       "...          ...    ...        ...    ...    ...    ...  ...     ...     ...   \n",
       "55066   20230126   2023          5   1048    693    650  ...    7655    8095   \n",
       "55067   20230125   2023          4    911    621    591  ...    7310    7844   \n",
       "55068   20230124   2023          3    965    767    641  ...    7115    8306   \n",
       "55069   20230123   2023          2   1338    740    661  ...    7171    7879   \n",
       "55070   20230205   2023          1   1382    941    944  ...    6754    6605   \n",
       "\n",
       "       HOUR16  HOUR17  HOUR18  HOUR19  HOUR20  HOUR21  HOUR22  HOUR23  \n",
       "0        1243    1359     993     670     506     348     292     186  \n",
       "1        1341    1380    1050     759     625     483     409     259  \n",
       "2        1311    1305    1013     742     533     405     288     192  \n",
       "3        1360    1349     979     657     585     409     333     172  \n",
       "4        1266    1355     959     717     578     401     251     161  \n",
       "...       ...     ...     ...     ...     ...     ...     ...     ...  \n",
       "55066    8043    7370    6004    5325    4245    3487    2340    2129  \n",
       "55067    7698    7022    5829    4901    3543    2988    2343    1737  \n",
       "55068    7676    7146    5811    4402    3256    2506    2101    1327  \n",
       "55069    7567    6832    5369    4437    3198    2617    2098    1478  \n",
       "55070    6596    5786    5434    4789    4192    3066    2389    1807  \n",
       "\n",
       "[55071 rows x 31 columns]"
      ]
     },
     "execution_count": 5,
     "metadata": {},
     "output_type": "execute_result"
    }
   ],
   "source": [
    "# traffic.info()\n",
    "# traffic.shape\n",
    "# traffic.dtypes\n",
    "traffic"
   ]
  },
  {
   "cell_type": "markdown",
   "id": "93b832a8-982d-4031-8e44-12c7813e9f41",
   "metadata": {},
   "source": [
    "#### Initial Findings\n",
    "1. Looks like there is a row for each day and the traffic counts every hour, resulting in many columns. \n",
    "2. The `COUNTDATE` is a float and not in correct date format\n",
    "3. There are 55071 rows with 31 columns"
   ]
  },
  {
   "cell_type": "code",
   "execution_count": 5,
   "id": "f2af7c59-520d-45fa-9e10-fb43e1b94a72",
   "metadata": {},
   "outputs": [],
   "source": [
    "traffic.isna().sum(); "
   ]
  },
  {
   "cell_type": "markdown",
   "id": "f8474823-7e16-496c-87ff-a1f3484bda5d",
   "metadata": {},
   "source": [
    "#### Null Findings\n",
    "1. There are zero nulls in this dataset"
   ]
  },
  {
   "cell_type": "markdown",
   "id": "139c3475-46d4-4325-b23c-6b211c454bd3",
   "metadata": {},
   "source": [
    "---\n",
    "\n",
    "## Data Manipulation\n",
    "\n",
    "For my analysis I would like to be able to look at traffic changes over time so I will need to redistribute each hourly value on a new row of data.\n"
   ]
  },
  {
   "cell_type": "code",
   "execution_count": 6,
   "id": "308e4de0-8263-424a-82df-ff8674f3e4f6",
   "metadata": {},
   "outputs": [],
   "source": [
    "id_vars_list_traf = []\n",
    "\n",
    "for i in range(len(traffic.columns)-7): # Setting range for the melt. Not including the first 7 columns so that all key infomation is stored\n",
    "    id_vars_list_traf.append(list(traffic.columns[:-i-1]))  # Creating a List of Lists where each subsequent list has the last item removed so that as the melt iterates it is always melting the last column and value\n",
    "    \n",
    "var_name_list_traf = traffic.columns[-24:]  # Capturing just the final 24 columns which contain the hourly counts\n",
    "\n",
    "\n",
    "# Creating a new dataframe that has a new row for every hourly count\n",
    "melted_dfs = []\n",
    "for i in range(len(id_vars_list_traf)): # Melting using the lists above that iterates over all 24 hour counts\n",
    "    melted_traffic = traffic.melt(id_vars = id_vars_list_traf[i], \n",
    "                                  var_name = var_name_list_traf[i],\n",
    "                                  value_name='Count')\n",
    "    melted_dfs.append(melted_traffic)"
   ]
  },
  {
   "cell_type": "markdown",
   "id": "162ae0ce-3ae9-4b02-ab52-441986d4c2a6",
   "metadata": {},
   "source": [
    "### Confirming the new dataset\n"
   ]
  },
  {
   "cell_type": "code",
   "execution_count": 7,
   "id": "e134c302-3024-46f0-9dff-cf15a960fa64",
   "metadata": {},
   "outputs": [
    {
     "data": {
      "text/html": [
       "<div>\n",
       "<style scoped>\n",
       "    .dataframe tbody tr th:only-of-type {\n",
       "        vertical-align: middle;\n",
       "    }\n",
       "\n",
       "    .dataframe tbody tr th {\n",
       "        vertical-align: top;\n",
       "    }\n",
       "\n",
       "    .dataframe thead th {\n",
       "        text-align: right;\n",
       "    }\n",
       "</style>\n",
       "<table border=\"1\" class=\"dataframe\">\n",
       "  <thead>\n",
       "    <tr style=\"text-align: right;\">\n",
       "      <th></th>\n",
       "      <th>COUNTLOCATION</th>\n",
       "      <th>ROUTE</th>\n",
       "      <th>COUNTSTATIONID</th>\n",
       "      <th>DIRECTION</th>\n",
       "      <th>COUNTDATE</th>\n",
       "      <th>CALYR</th>\n",
       "      <th>DAYOFWEEK</th>\n",
       "      <th>HOUR23</th>\n",
       "      <th>Count</th>\n",
       "    </tr>\n",
       "  </thead>\n",
       "  <tbody>\n",
       "    <tr>\n",
       "      <th>0</th>\n",
       "      <td>ON I-70 W/O SH 36, AIR PARK RD, AURORA</td>\n",
       "      <td>070A</td>\n",
       "      <td>2</td>\n",
       "      <td>P</td>\n",
       "      <td>20180822</td>\n",
       "      <td>2018</td>\n",
       "      <td>4</td>\n",
       "      <td>HOUR0</td>\n",
       "      <td>134</td>\n",
       "    </tr>\n",
       "    <tr>\n",
       "      <th>1</th>\n",
       "      <td>ON I-70 W/O SH 36, AIR PARK RD, AURORA</td>\n",
       "      <td>070A</td>\n",
       "      <td>2</td>\n",
       "      <td>P</td>\n",
       "      <td>20180907</td>\n",
       "      <td>2018</td>\n",
       "      <td>6</td>\n",
       "      <td>HOUR0</td>\n",
       "      <td>156</td>\n",
       "    </tr>\n",
       "    <tr>\n",
       "      <th>2</th>\n",
       "      <td>ON I-70 W/O SH 36, AIR PARK RD, AURORA</td>\n",
       "      <td>070A</td>\n",
       "      <td>2</td>\n",
       "      <td>P</td>\n",
       "      <td>20180906</td>\n",
       "      <td>2018</td>\n",
       "      <td>5</td>\n",
       "      <td>HOUR0</td>\n",
       "      <td>133</td>\n",
       "    </tr>\n",
       "    <tr>\n",
       "      <th>3</th>\n",
       "      <td>ON I-70 W/O SH 36, AIR PARK RD, AURORA</td>\n",
       "      <td>070A</td>\n",
       "      <td>2</td>\n",
       "      <td>P</td>\n",
       "      <td>20180829</td>\n",
       "      <td>2018</td>\n",
       "      <td>4</td>\n",
       "      <td>HOUR0</td>\n",
       "      <td>137</td>\n",
       "    </tr>\n",
       "    <tr>\n",
       "      <th>4</th>\n",
       "      <td>ON I-70 W/O SH 36, AIR PARK RD, AURORA</td>\n",
       "      <td>070A</td>\n",
       "      <td>2</td>\n",
       "      <td>P</td>\n",
       "      <td>20180828</td>\n",
       "      <td>2018</td>\n",
       "      <td>3</td>\n",
       "      <td>HOUR0</td>\n",
       "      <td>97</td>\n",
       "    </tr>\n",
       "  </tbody>\n",
       "</table>\n",
       "</div>"
      ],
      "text/plain": [
       "                            COUNTLOCATION ROUTE  COUNTSTATIONID DIRECTION  \\\n",
       "0  ON I-70 W/O SH 36, AIR PARK RD, AURORA  070A               2         P   \n",
       "1  ON I-70 W/O SH 36, AIR PARK RD, AURORA  070A               2         P   \n",
       "2  ON I-70 W/O SH 36, AIR PARK RD, AURORA  070A               2         P   \n",
       "3  ON I-70 W/O SH 36, AIR PARK RD, AURORA  070A               2         P   \n",
       "4  ON I-70 W/O SH 36, AIR PARK RD, AURORA  070A               2         P   \n",
       "\n",
       "   COUNTDATE  CALYR  DAYOFWEEK HOUR23  Count  \n",
       "0   20180822   2018          4  HOUR0    134  \n",
       "1   20180907   2018          6  HOUR0    156  \n",
       "2   20180906   2018          5  HOUR0    133  \n",
       "3   20180829   2018          4  HOUR0    137  \n",
       "4   20180828   2018          3  HOUR0     97  "
      ]
     },
     "execution_count": 7,
     "metadata": {},
     "output_type": "execute_result"
    }
   ],
   "source": [
    "# melted_traffic.isna().sum()\n",
    "melted_traffic.head()\n",
    "# melted_traffic.shape"
   ]
  },
  {
   "cell_type": "markdown",
   "id": "f51f8161-5b4d-4d51-b4da-d8b33b91bb56",
   "metadata": {},
   "source": [
    "- The new dataset now has 1,321,704 rows and 8 columns.\n",
    "- This is the expected amount since the orginal rows (55,073) * hours (24) = new rows (1,321,704)"
   ]
  },
  {
   "cell_type": "markdown",
   "id": "35361f61-986a-4236-aa71-2bdf2230c256",
   "metadata": {},
   "source": [
    "---\n",
    "#### Additional Data Cleaning\n",
    "\n",
    "- Adding the time and converting the date to a date format"
   ]
  },
  {
   "cell_type": "code",
   "execution_count": 8,
   "id": "01a9b90e-414f-49b5-aef6-cff692c2cb83",
   "metadata": {},
   "outputs": [],
   "source": [
    "melted_traffic['COUNTDATE_TIME'] = melted_traffic['COUNTDATE'].astype(str) + melted_traffic['HOUR23']"
   ]
  },
  {
   "cell_type": "markdown",
   "id": "32969b75-255c-4666-8ef2-058dd572b5fb",
   "metadata": {},
   "source": [
    "Struggled with importing the date correctly into Tableau so kept mulitple types of the `COUNTDATE`\n",
    "- Created a new column to add the time to the existing date\n",
    "- Converted the exisiting date float to a date format\n",
    "- Renamed the `HOUR23` column and dropped the `HOUR` from the value"
   ]
  },
  {
   "cell_type": "code",
   "execution_count": 9,
   "id": "3b6aea2e-878c-4935-8a79-0c2514eed79d",
   "metadata": {},
   "outputs": [],
   "source": [
    "def convertdatetime(row):\n",
    "    date_str = row['COUNTDATE_TIME']\n",
    "    date_obj = datetime.datetime.strptime(date_str, '%Y%m%dHOUR%H')\n",
    "    return date_obj\n",
    "\n",
    "melted_traffic['COUNTDATE_TIME'] = melted_traffic.apply(convertdatetime, axis = 1)"
   ]
  },
  {
   "cell_type": "code",
   "execution_count": 10,
   "id": "8617fc47-0e90-49ce-9f78-a61e9010abd4",
   "metadata": {},
   "outputs": [],
   "source": [
    "def convertdate(row):\n",
    "    date_int = row['COUNTDATE']\n",
    "    date_str = str(date_int)\n",
    "    date = datetime.datetime.strptime(date_str, '%Y%m%d').date()\n",
    "    return date\n",
    "\n",
    "melted_traffic['COUNTDATE'] = melted_traffic.apply(convertdate, axis = 1)"
   ]
  },
  {
   "cell_type": "code",
   "execution_count": 11,
   "id": "6faf7c9e-99c1-4687-a9d5-2aefa0a0ddde",
   "metadata": {},
   "outputs": [],
   "source": [
    "melted_traffic = melted_traffic.rename(columns={'HOUR23': 'Hour'})"
   ]
  },
  {
   "cell_type": "code",
   "execution_count": 12,
   "id": "338b0a09-3d75-4ab8-abd3-e717a21b3cf1",
   "metadata": {},
   "outputs": [],
   "source": [
    "melted_traffic['Hour'] = melted_traffic['Hour'].map(lambda x: x.lstrip('HOUR'))"
   ]
  },
  {
   "cell_type": "markdown",
   "id": "b68658e6-c2e6-4d81-9b4a-e1817f1f7606",
   "metadata": {},
   "source": [
    "Changing the Direction Values\n",
    "- Switching `P` (Primary) to Eastbound\n",
    "- Switching `S` (Secondary) to Westbound"
   ]
  },
  {
   "cell_type": "code",
   "execution_count": 13,
   "id": "ceaef053-fc05-40b3-89a7-5d212194b485",
   "metadata": {},
   "outputs": [],
   "source": [
    "melted_traffic.loc[melted_traffic['DIRECTION'] == 'P', 'DIRECTION'] = 'East'\n",
    "melted_traffic.loc[melted_traffic['DIRECTION'] == 'S', 'DIRECTION'] = 'West'"
   ]
  },
  {
   "cell_type": "markdown",
   "id": "4f001674-e810-481e-aafd-82303ed2d573",
   "metadata": {},
   "source": [
    "##### Export to CSV\n"
   ]
  },
  {
   "cell_type": "code",
   "execution_count": 14,
   "id": "d75e41b7-ddd8-48dc-b8e5-9b9a79449182",
   "metadata": {},
   "outputs": [],
   "source": [
    "melted_traffic.to_csv(f'{output_folder}/melted_traffic.csv', index=False)"
   ]
  },
  {
   "cell_type": "markdown",
   "id": "1aba430f-8023-49d4-9058-7bad2dc8acc7",
   "metadata": {},
   "source": [
    "-----"
   ]
  },
  {
   "cell_type": "markdown",
   "id": "ea3dcf36-1cfc-41ac-ac13-88f780729caa",
   "metadata": {},
   "source": [
    "## Defining the Station dataset"
   ]
  },
  {
   "cell_type": "code",
   "execution_count": 15,
   "id": "cc3b7233-fb12-4679-8d60-bb55f2021694",
   "metadata": {},
   "outputs": [],
   "source": [
    "stations = pd.read_excel(filename,sheetname_stations)"
   ]
  },
  {
   "cell_type": "markdown",
   "id": "38c772cc-2e0d-449f-8d18-ce99e91326b6",
   "metadata": {},
   "source": [
    "Checking the data"
   ]
  },
  {
   "cell_type": "code",
   "execution_count": 16,
   "id": "bd9412d7-eb17-43b5-bcc2-4fc3092ca701",
   "metadata": {},
   "outputs": [
    {
     "data": {
      "text/plain": [
       "0"
      ]
     },
     "execution_count": 16,
     "metadata": {},
     "output_type": "execute_result"
    }
   ],
   "source": [
    "# stations.info()\n",
    "# stations.shape\n",
    "# stations.dtypes\n",
    "# stations.duplicated().sum()\n",
    "stations.duplicated(subset = 'StationID').sum()"
   ]
  },
  {
   "cell_type": "code",
   "execution_count": 17,
   "id": "12949a22-91ed-4d5e-8401-bb9bb3913124",
   "metadata": {},
   "outputs": [
    {
     "data": {
      "text/html": [
       "<div>\n",
       "<style scoped>\n",
       "    .dataframe tbody tr th:only-of-type {\n",
       "        vertical-align: middle;\n",
       "    }\n",
       "\n",
       "    .dataframe tbody tr th {\n",
       "        vertical-align: top;\n",
       "    }\n",
       "\n",
       "    .dataframe thead th {\n",
       "        text-align: right;\n",
       "    }\n",
       "</style>\n",
       "<table border=\"1\" class=\"dataframe\">\n",
       "  <thead>\n",
       "    <tr style=\"text-align: right;\">\n",
       "      <th></th>\n",
       "      <th>StationID</th>\n",
       "      <th>County</th>\n",
       "      <th>Functional Class</th>\n",
       "      <th>Rural Urban</th>\n",
       "      <th>Location</th>\n",
       "      <th>Directions</th>\n",
       "      <th>Latitude</th>\n",
       "      <th>Longitude</th>\n",
       "    </tr>\n",
       "  </thead>\n",
       "  <tbody>\n",
       "    <tr>\n",
       "      <th>0</th>\n",
       "      <td>2</td>\n",
       "      <td>Adams</td>\n",
       "      <td>(1) Interstate</td>\n",
       "      <td>R</td>\n",
       "      <td>ON I-70 W/O SH 36, AIR PARK RD, AURORA</td>\n",
       "      <td>EB/WB</td>\n",
       "      <td>39.739875</td>\n",
       "      <td>-104.671758</td>\n",
       "    </tr>\n",
       "    <tr>\n",
       "      <th>1</th>\n",
       "      <td>11</td>\n",
       "      <td>Eagle</td>\n",
       "      <td>(1) Interstate</td>\n",
       "      <td>R</td>\n",
       "      <td>ON I-70 SE/O SH 131, WOLCOTT</td>\n",
       "      <td>EB/WB</td>\n",
       "      <td>39.690678</td>\n",
       "      <td>-106.663292</td>\n",
       "    </tr>\n",
       "    <tr>\n",
       "      <th>2</th>\n",
       "      <td>14</td>\n",
       "      <td>Lincoln</td>\n",
       "      <td>(1) Interstate</td>\n",
       "      <td>R</td>\n",
       "      <td>ON I-70 E/O SH 24 &amp; SH 40, E/O LIMON</td>\n",
       "      <td>EB/WB</td>\n",
       "      <td>39.266509</td>\n",
       "      <td>-103.605098</td>\n",
       "    </tr>\n",
       "    <tr>\n",
       "      <th>3</th>\n",
       "      <td>104</td>\n",
       "      <td>Mesa</td>\n",
       "      <td>(1) Interstate</td>\n",
       "      <td>R</td>\n",
       "      <td>ON I-70 W/O SH 6, MACK</td>\n",
       "      <td>EB/WB</td>\n",
       "      <td>39.218190</td>\n",
       "      <td>-108.877344</td>\n",
       "    </tr>\n",
       "    <tr>\n",
       "      <th>4</th>\n",
       "      <td>105</td>\n",
       "      <td>Garfield</td>\n",
       "      <td>(1) Interstate</td>\n",
       "      <td>U</td>\n",
       "      <td>ON I-70 E/O SH 82, GLENWOOD SPRINGS</td>\n",
       "      <td>EB/WB</td>\n",
       "      <td>39.561943</td>\n",
       "      <td>-107.298682</td>\n",
       "    </tr>\n",
       "    <tr>\n",
       "      <th>5</th>\n",
       "      <td>106</td>\n",
       "      <td>Summit</td>\n",
       "      <td>(1) Interstate</td>\n",
       "      <td>R</td>\n",
       "      <td>ON I-70 NE/O SH 9, BLUE RIVER PKWY, AT EISENHO...</td>\n",
       "      <td>EB/WB</td>\n",
       "      <td>39.678705</td>\n",
       "      <td>-105.935154</td>\n",
       "    </tr>\n",
       "    <tr>\n",
       "      <th>6</th>\n",
       "      <td>107</td>\n",
       "      <td>Jefferson</td>\n",
       "      <td>(1) Interstate</td>\n",
       "      <td>U</td>\n",
       "      <td>ON I-70 E/O MT VERNON COUNTRY CLUB RD, GENESEE</td>\n",
       "      <td>EB/WB</td>\n",
       "      <td>39.708895</td>\n",
       "      <td>-105.287368</td>\n",
       "    </tr>\n",
       "    <tr>\n",
       "      <th>7</th>\n",
       "      <td>108</td>\n",
       "      <td>Arapahoe</td>\n",
       "      <td>(1) Interstate</td>\n",
       "      <td>R</td>\n",
       "      <td>ON I-70 W/O SH 36, BYERS</td>\n",
       "      <td>EB/WB</td>\n",
       "      <td>39.721943</td>\n",
       "      <td>-104.247422</td>\n",
       "    </tr>\n",
       "    <tr>\n",
       "      <th>8</th>\n",
       "      <td>109</td>\n",
       "      <td>Kit Carson</td>\n",
       "      <td>(1) Interstate</td>\n",
       "      <td>R</td>\n",
       "      <td>ON I-70 NE/O SH 70 BURLINGTON SPUR</td>\n",
       "      <td>EB/WB</td>\n",
       "      <td>39.306858</td>\n",
       "      <td>-102.247197</td>\n",
       "    </tr>\n",
       "    <tr>\n",
       "      <th>9</th>\n",
       "      <td>119</td>\n",
       "      <td>Summit</td>\n",
       "      <td>(1) Interstate</td>\n",
       "      <td>R</td>\n",
       "      <td>ON I-70 W/O SH 91, COPPER MOUNTAIN</td>\n",
       "      <td>EB/WB</td>\n",
       "      <td>39.503080</td>\n",
       "      <td>-106.150063</td>\n",
       "    </tr>\n",
       "    <tr>\n",
       "      <th>10</th>\n",
       "      <td>120</td>\n",
       "      <td>Clear Creek</td>\n",
       "      <td>(1) Interstate</td>\n",
       "      <td>R</td>\n",
       "      <td>ON I-70 E/O SH 70 BUS RT, COLORADO BLVD AT IDA...</td>\n",
       "      <td>EB/WB</td>\n",
       "      <td>39.744558</td>\n",
       "      <td>-105.476260</td>\n",
       "    </tr>\n",
       "    <tr>\n",
       "      <th>11</th>\n",
       "      <td>126</td>\n",
       "      <td>Eagle</td>\n",
       "      <td>(1) Interstate</td>\n",
       "      <td>R</td>\n",
       "      <td>ON I-70 W/O CHAONIX RD, WEST VAIL</td>\n",
       "      <td>EB/WB</td>\n",
       "      <td>39.624520</td>\n",
       "      <td>-106.424598</td>\n",
       "    </tr>\n",
       "    <tr>\n",
       "      <th>12</th>\n",
       "      <td>510</td>\n",
       "      <td>Denver</td>\n",
       "      <td>(1) Interstate</td>\n",
       "      <td>U</td>\n",
       "      <td>ON I-70 E/O SH 95, SHERIDAN BLVD, DENVER</td>\n",
       "      <td>EB/WB</td>\n",
       "      <td>39.784776</td>\n",
       "      <td>-105.046922</td>\n",
       "    </tr>\n",
       "    <tr>\n",
       "      <th>13</th>\n",
       "      <td>511</td>\n",
       "      <td>Denver</td>\n",
       "      <td>(1) Interstate</td>\n",
       "      <td>U</td>\n",
       "      <td>ON I-70 E/O DAHLIA ST, DENVER</td>\n",
       "      <td>EB/WB</td>\n",
       "      <td>39.778933</td>\n",
       "      <td>-104.925646</td>\n",
       "    </tr>\n",
       "    <tr>\n",
       "      <th>14</th>\n",
       "      <td>103011</td>\n",
       "      <td>Garfield</td>\n",
       "      <td>(1) Interstate</td>\n",
       "      <td>R</td>\n",
       "      <td>ON I-70 W/O SH 70 SPUR, 9TH ST, SILT</td>\n",
       "      <td>EB/WB</td>\n",
       "      <td>39.545419</td>\n",
       "      <td>-107.661510</td>\n",
       "    </tr>\n",
       "    <tr>\n",
       "      <th>15</th>\n",
       "      <td>103078</td>\n",
       "      <td>Denver</td>\n",
       "      <td>(1) Interstate</td>\n",
       "      <td>U</td>\n",
       "      <td>ON I-70 W/O HAVANA ST, DENVER</td>\n",
       "      <td>EB/WB</td>\n",
       "      <td>39.775709</td>\n",
       "      <td>-104.867092</td>\n",
       "    </tr>\n",
       "  </tbody>\n",
       "</table>\n",
       "</div>"
      ],
      "text/plain": [
       "    StationID       County Functional Class Rural Urban  \\\n",
       "0           2        Adams   (1) Interstate           R   \n",
       "1          11        Eagle   (1) Interstate           R   \n",
       "2          14      Lincoln   (1) Interstate           R   \n",
       "3         104         Mesa   (1) Interstate           R   \n",
       "4         105     Garfield   (1) Interstate           U   \n",
       "5         106       Summit   (1) Interstate           R   \n",
       "6         107    Jefferson   (1) Interstate           U   \n",
       "7         108     Arapahoe   (1) Interstate           R   \n",
       "8         109   Kit Carson   (1) Interstate           R   \n",
       "9         119       Summit   (1) Interstate           R   \n",
       "10        120  Clear Creek   (1) Interstate           R   \n",
       "11        126        Eagle   (1) Interstate           R   \n",
       "12        510       Denver   (1) Interstate           U   \n",
       "13        511       Denver   (1) Interstate           U   \n",
       "14     103011     Garfield   (1) Interstate           R   \n",
       "15     103078       Denver   (1) Interstate           U   \n",
       "\n",
       "                                             Location Directions   Latitude  \\\n",
       "0              ON I-70 W/O SH 36, AIR PARK RD, AURORA      EB/WB  39.739875   \n",
       "1                        ON I-70 SE/O SH 131, WOLCOTT      EB/WB  39.690678   \n",
       "2                ON I-70 E/O SH 24 & SH 40, E/O LIMON      EB/WB  39.266509   \n",
       "3                              ON I-70 W/O SH 6, MACK      EB/WB  39.218190   \n",
       "4                 ON I-70 E/O SH 82, GLENWOOD SPRINGS      EB/WB  39.561943   \n",
       "5   ON I-70 NE/O SH 9, BLUE RIVER PKWY, AT EISENHO...      EB/WB  39.678705   \n",
       "6      ON I-70 E/O MT VERNON COUNTRY CLUB RD, GENESEE      EB/WB  39.708895   \n",
       "7                            ON I-70 W/O SH 36, BYERS      EB/WB  39.721943   \n",
       "8                  ON I-70 NE/O SH 70 BURLINGTON SPUR      EB/WB  39.306858   \n",
       "9                  ON I-70 W/O SH 91, COPPER MOUNTAIN      EB/WB  39.503080   \n",
       "10  ON I-70 E/O SH 70 BUS RT, COLORADO BLVD AT IDA...      EB/WB  39.744558   \n",
       "11                  ON I-70 W/O CHAONIX RD, WEST VAIL      EB/WB  39.624520   \n",
       "12           ON I-70 E/O SH 95, SHERIDAN BLVD, DENVER      EB/WB  39.784776   \n",
       "13                      ON I-70 E/O DAHLIA ST, DENVER      EB/WB  39.778933   \n",
       "14               ON I-70 W/O SH 70 SPUR, 9TH ST, SILT      EB/WB  39.545419   \n",
       "15                      ON I-70 W/O HAVANA ST, DENVER      EB/WB  39.775709   \n",
       "\n",
       "     Longitude  \n",
       "0  -104.671758  \n",
       "1  -106.663292  \n",
       "2  -103.605098  \n",
       "3  -108.877344  \n",
       "4  -107.298682  \n",
       "5  -105.935154  \n",
       "6  -105.287368  \n",
       "7  -104.247422  \n",
       "8  -102.247197  \n",
       "9  -106.150063  \n",
       "10 -105.476260  \n",
       "11 -106.424598  \n",
       "12 -105.046922  \n",
       "13 -104.925646  \n",
       "14 -107.661510  \n",
       "15 -104.867092  "
      ]
     },
     "execution_count": 17,
     "metadata": {},
     "output_type": "execute_result"
    }
   ],
   "source": [
    "stations"
   ]
  },
  {
   "cell_type": "markdown",
   "id": "af2926ab-7502-4857-9de0-04ac59c9ece2",
   "metadata": {},
   "source": [
    "Dataset Details\n",
    "- 16 Rows and 8 Columns\n",
    "- Zero Duplicated Rows\n",
    "- Zero Null Values\n",
    "- All unique 'StationID' numbers\n",
    "\n",
    "Based on these details the data is already clean and is ready for export"
   ]
  },
  {
   "cell_type": "markdown",
   "id": "82ff4601-8e82-475d-a391-7d8d9396c314",
   "metadata": {},
   "source": [
    "##### Export to CSV\n"
   ]
  },
  {
   "cell_type": "code",
   "execution_count": 18,
   "id": "24196e6c-2a80-4926-9881-41a50386ddc4",
   "metadata": {},
   "outputs": [],
   "source": [
    "stations.to_csv(f'{output_folder}/stations.csv', index=False)\n",
    "\n",
    "# melted_traffic.to_csv(f'{output_folder}/{'melted_traffic.csv'}', index=False)"
   ]
  },
  {
   "cell_type": "markdown",
   "id": "d47514d6-7aa8-4497-82d1-df43102a6776",
   "metadata": {},
   "source": [
    "----"
   ]
  },
  {
   "cell_type": "markdown",
   "id": "3f1b6ef6-cb11-431d-8a25-5aa09bc0f229",
   "metadata": {},
   "source": [
    "## Defining the Highway Grade Dataset"
   ]
  },
  {
   "cell_type": "code",
   "execution_count": 19,
   "id": "cc8a44da-1537-4feb-8954-215a72a7d401",
   "metadata": {},
   "outputs": [],
   "source": [
    "grades = pd.read_excel(filename,sheetname_grades)"
   ]
  },
  {
   "cell_type": "markdown",
   "id": "fcc658d8-87da-4965-9e84-eb862a5ee830",
   "metadata": {},
   "source": [
    "Examining the data"
   ]
  },
  {
   "cell_type": "code",
   "execution_count": 20,
   "id": "fe8d6257-e81e-4ee2-9958-e892db7780f1",
   "metadata": {},
   "outputs": [
    {
     "data": {
      "text/plain": [
       "ROUTE                 0\n",
       "REFPT                 0\n",
       "ENDREFPT              0\n",
       "RUNLENGTH_FROM        0\n",
       "RUNLENGTH_TO          0\n",
       "SEG_LENGTH            0\n",
       "GRADE_UPDATEYR        0\n",
       "PRIGRADE              0\n",
       "PRIGRADECLASS         0\n",
       "SECGRADE          61830\n",
       "SECGRADECLASS     61830\n",
       "OBJECTID              0\n",
       "dtype: int64"
      ]
     },
     "execution_count": 20,
     "metadata": {},
     "output_type": "execute_result"
    }
   ],
   "source": [
    "# grades.info()\n",
    "# grades.shape\n",
    "# grades.dtypes\n",
    "# grades.duplicated().sum()\n",
    "grades.isna().sum()"
   ]
  },
  {
   "cell_type": "markdown",
   "id": "23675a83-1c2c-4b0b-b431-02b1a2bfd03d",
   "metadata": {},
   "source": [
    "#### The Grades dataset\n",
    "- 87,627 Rows with 12 columns\n",
    "- There are no duplicated rows\n",
    "- The only columns that contain nulls are `SECGRADE` and `SECGRADECLASS` \n",
    "    - Both these columns have the same amount of nulls "
   ]
  },
  {
   "cell_type": "markdown",
   "id": "5047ba6f-e43b-408d-b729-3717f5559cc0",
   "metadata": {},
   "source": [
    "## Data Manipulation\n",
    "\n",
    "- For my analysis am only interested in a specific route, so I will create a mask to segment only that data.\n",
    "- Change the `PRI` and `SEC` prefixes to East and West\n",
    "- Add a Mile Marker value for joining purposes based off the `RUNLENGTH_FROM` column\n"
   ]
  },
  {
   "cell_type": "code",
   "execution_count": 21,
   "id": "02c16641-551e-4a8c-b72e-9832e929ae1b",
   "metadata": {},
   "outputs": [],
   "source": [
    "grades_70 = grades[grades['ROUTE'] == '070A']"
   ]
  },
  {
   "cell_type": "code",
   "execution_count": 22,
   "id": "79e5da22-2e30-49cb-8ede-36ffe9610dc8",
   "metadata": {},
   "outputs": [],
   "source": [
    "grades_70 = grades_70.rename(columns={'PRIGRADE': 'EAST_GRADE', 'PRIGRADECLASS': 'EAST_GRADECLASS','SECGRADE': 'WEST_GRADE', 'SECGRADECLASS': 'WEST_GRADECLASS'})"
   ]
  },
  {
   "cell_type": "code",
   "execution_count": 23,
   "id": "efddd8f4-e5cb-4a08-8eff-7a434a64adf6",
   "metadata": {},
   "outputs": [],
   "source": [
    "grades_70['mile_marker'] = grades_70['RUNLENGTH_FROM']"
   ]
  },
  {
   "cell_type": "code",
   "execution_count": 24,
   "id": "955fd636-881c-40ad-9239-09b3a43faa63",
   "metadata": {},
   "outputs": [
    {
     "data": {
      "text/plain": [
       "(4405, 13)"
      ]
     },
     "execution_count": 24,
     "metadata": {},
     "output_type": "execute_result"
    }
   ],
   "source": [
    "# grades_70.info()\n",
    "grades_70.shape\n",
    "# grades_70.dtypes\n",
    "# grades_70.duplicated().sum()\n",
    "# grades_70.isna().sum()"
   ]
  },
  {
   "cell_type": "markdown",
   "id": "c529df27-4755-47c3-827a-483160c5f763",
   "metadata": {},
   "source": [
    "#### The Grades_70 dataset\n",
    "- 4,405 Rows with 13 columns\n",
    "- There are no duplicated rows\n",
    "- The are not any null values\n"
   ]
  },
  {
   "cell_type": "code",
   "execution_count": 25,
   "id": "91d8a500-a117-4f62-af79-6bdceccc22e2",
   "metadata": {},
   "outputs": [
    {
     "data": {
      "text/html": [
       "<div>\n",
       "<style scoped>\n",
       "    .dataframe tbody tr th:only-of-type {\n",
       "        vertical-align: middle;\n",
       "    }\n",
       "\n",
       "    .dataframe tbody tr th {\n",
       "        vertical-align: top;\n",
       "    }\n",
       "\n",
       "    .dataframe thead th {\n",
       "        text-align: right;\n",
       "    }\n",
       "</style>\n",
       "<table border=\"1\" class=\"dataframe\">\n",
       "  <thead>\n",
       "    <tr style=\"text-align: right;\">\n",
       "      <th></th>\n",
       "      <th>ROUTE</th>\n",
       "      <th>REFPT</th>\n",
       "      <th>ENDREFPT</th>\n",
       "      <th>RUNLENGTH_FROM</th>\n",
       "      <th>RUNLENGTH_TO</th>\n",
       "      <th>SEG_LENGTH</th>\n",
       "      <th>GRADE_UPDATEYR</th>\n",
       "      <th>EAST_GRADE</th>\n",
       "      <th>EAST_GRADECLASS</th>\n",
       "      <th>WEST_GRADE</th>\n",
       "      <th>WEST_GRADECLASS</th>\n",
       "      <th>OBJECTID</th>\n",
       "      <th>mile_marker</th>\n",
       "    </tr>\n",
       "  </thead>\n",
       "  <tbody>\n",
       "    <tr>\n",
       "      <th>38190</th>\n",
       "      <td>070A</td>\n",
       "      <td>0.000</td>\n",
       "      <td>0.101</td>\n",
       "      <td>0.0</td>\n",
       "      <td>0.10</td>\n",
       "      <td>0.10</td>\n",
       "      <td>2018</td>\n",
       "      <td>5.1</td>\n",
       "      <td>D</td>\n",
       "      <td>-5.0</td>\n",
       "      <td>D</td>\n",
       "      <td>38189</td>\n",
       "      <td>0.0</td>\n",
       "    </tr>\n",
       "    <tr>\n",
       "      <th>38191</th>\n",
       "      <td>070A</td>\n",
       "      <td>0.101</td>\n",
       "      <td>0.202</td>\n",
       "      <td>0.1</td>\n",
       "      <td>0.20</td>\n",
       "      <td>0.10</td>\n",
       "      <td>2018</td>\n",
       "      <td>5.6</td>\n",
       "      <td>D</td>\n",
       "      <td>-4.0</td>\n",
       "      <td>C</td>\n",
       "      <td>38190</td>\n",
       "      <td>0.1</td>\n",
       "    </tr>\n",
       "    <tr>\n",
       "      <th>38192</th>\n",
       "      <td>070A</td>\n",
       "      <td>0.202</td>\n",
       "      <td>0.303</td>\n",
       "      <td>0.2</td>\n",
       "      <td>0.30</td>\n",
       "      <td>0.10</td>\n",
       "      <td>2018</td>\n",
       "      <td>4.7</td>\n",
       "      <td>D</td>\n",
       "      <td>-3.0</td>\n",
       "      <td>C</td>\n",
       "      <td>38191</td>\n",
       "      <td>0.2</td>\n",
       "    </tr>\n",
       "    <tr>\n",
       "      <th>38193</th>\n",
       "      <td>070A</td>\n",
       "      <td>0.303</td>\n",
       "      <td>0.404</td>\n",
       "      <td>0.3</td>\n",
       "      <td>0.40</td>\n",
       "      <td>0.10</td>\n",
       "      <td>2018</td>\n",
       "      <td>4.1</td>\n",
       "      <td>C</td>\n",
       "      <td>-2.6</td>\n",
       "      <td>C</td>\n",
       "      <td>38192</td>\n",
       "      <td>0.3</td>\n",
       "    </tr>\n",
       "    <tr>\n",
       "      <th>38194</th>\n",
       "      <td>070A</td>\n",
       "      <td>0.404</td>\n",
       "      <td>0.505</td>\n",
       "      <td>0.4</td>\n",
       "      <td>0.50</td>\n",
       "      <td>0.10</td>\n",
       "      <td>2018</td>\n",
       "      <td>3.8</td>\n",
       "      <td>C</td>\n",
       "      <td>-2.4</td>\n",
       "      <td>B</td>\n",
       "      <td>38193</td>\n",
       "      <td>0.4</td>\n",
       "    </tr>\n",
       "    <tr>\n",
       "      <th>...</th>\n",
       "      <td>...</td>\n",
       "      <td>...</td>\n",
       "      <td>...</td>\n",
       "      <td>...</td>\n",
       "      <td>...</td>\n",
       "      <td>...</td>\n",
       "      <td>...</td>\n",
       "      <td>...</td>\n",
       "      <td>...</td>\n",
       "      <td>...</td>\n",
       "      <td>...</td>\n",
       "      <td>...</td>\n",
       "      <td>...</td>\n",
       "    </tr>\n",
       "    <tr>\n",
       "      <th>42595</th>\n",
       "      <td>070A</td>\n",
       "      <td>449.109</td>\n",
       "      <td>449.209</td>\n",
       "      <td>449.7</td>\n",
       "      <td>449.80</td>\n",
       "      <td>0.10</td>\n",
       "      <td>2018</td>\n",
       "      <td>0.0</td>\n",
       "      <td>A</td>\n",
       "      <td>0.2</td>\n",
       "      <td>A</td>\n",
       "      <td>42589</td>\n",
       "      <td>449.7</td>\n",
       "    </tr>\n",
       "    <tr>\n",
       "      <th>42596</th>\n",
       "      <td>070A</td>\n",
       "      <td>449.209</td>\n",
       "      <td>449.309</td>\n",
       "      <td>449.8</td>\n",
       "      <td>449.90</td>\n",
       "      <td>0.10</td>\n",
       "      <td>2018</td>\n",
       "      <td>0.0</td>\n",
       "      <td>A</td>\n",
       "      <td>0.1</td>\n",
       "      <td>A</td>\n",
       "      <td>42590</td>\n",
       "      <td>449.8</td>\n",
       "    </tr>\n",
       "    <tr>\n",
       "      <th>42597</th>\n",
       "      <td>070A</td>\n",
       "      <td>449.309</td>\n",
       "      <td>449.409</td>\n",
       "      <td>449.9</td>\n",
       "      <td>450.00</td>\n",
       "      <td>0.10</td>\n",
       "      <td>2018</td>\n",
       "      <td>0.0</td>\n",
       "      <td>A</td>\n",
       "      <td>0.2</td>\n",
       "      <td>A</td>\n",
       "      <td>42591</td>\n",
       "      <td>449.9</td>\n",
       "    </tr>\n",
       "    <tr>\n",
       "      <th>42598</th>\n",
       "      <td>070A</td>\n",
       "      <td>449.409</td>\n",
       "      <td>449.509</td>\n",
       "      <td>450.0</td>\n",
       "      <td>450.10</td>\n",
       "      <td>0.10</td>\n",
       "      <td>2018</td>\n",
       "      <td>-0.1</td>\n",
       "      <td>A</td>\n",
       "      <td>0.5</td>\n",
       "      <td>B</td>\n",
       "      <td>42592</td>\n",
       "      <td>450.0</td>\n",
       "    </tr>\n",
       "    <tr>\n",
       "      <th>42599</th>\n",
       "      <td>070A</td>\n",
       "      <td>449.509</td>\n",
       "      <td>449.589</td>\n",
       "      <td>450.1</td>\n",
       "      <td>450.18</td>\n",
       "      <td>0.08</td>\n",
       "      <td>2018</td>\n",
       "      <td>-0.4</td>\n",
       "      <td>A</td>\n",
       "      <td>-0.4</td>\n",
       "      <td>A</td>\n",
       "      <td>42593</td>\n",
       "      <td>450.1</td>\n",
       "    </tr>\n",
       "  </tbody>\n",
       "</table>\n",
       "<p>4405 rows × 13 columns</p>\n",
       "</div>"
      ],
      "text/plain": [
       "      ROUTE    REFPT  ENDREFPT  RUNLENGTH_FROM  RUNLENGTH_TO  SEG_LENGTH  \\\n",
       "38190  070A    0.000     0.101             0.0          0.10        0.10   \n",
       "38191  070A    0.101     0.202             0.1          0.20        0.10   \n",
       "38192  070A    0.202     0.303             0.2          0.30        0.10   \n",
       "38193  070A    0.303     0.404             0.3          0.40        0.10   \n",
       "38194  070A    0.404     0.505             0.4          0.50        0.10   \n",
       "...     ...      ...       ...             ...           ...         ...   \n",
       "42595  070A  449.109   449.209           449.7        449.80        0.10   \n",
       "42596  070A  449.209   449.309           449.8        449.90        0.10   \n",
       "42597  070A  449.309   449.409           449.9        450.00        0.10   \n",
       "42598  070A  449.409   449.509           450.0        450.10        0.10   \n",
       "42599  070A  449.509   449.589           450.1        450.18        0.08   \n",
       "\n",
       "       GRADE_UPDATEYR  EAST_GRADE EAST_GRADECLASS  WEST_GRADE WEST_GRADECLASS  \\\n",
       "38190            2018         5.1               D        -5.0               D   \n",
       "38191            2018         5.6               D        -4.0               C   \n",
       "38192            2018         4.7               D        -3.0               C   \n",
       "38193            2018         4.1               C        -2.6               C   \n",
       "38194            2018         3.8               C        -2.4               B   \n",
       "...               ...         ...             ...         ...             ...   \n",
       "42595            2018         0.0               A         0.2               A   \n",
       "42596            2018         0.0               A         0.1               A   \n",
       "42597            2018         0.0               A         0.2               A   \n",
       "42598            2018        -0.1               A         0.5               B   \n",
       "42599            2018        -0.4               A        -0.4               A   \n",
       "\n",
       "       OBJECTID  mile_marker  \n",
       "38190     38189          0.0  \n",
       "38191     38190          0.1  \n",
       "38192     38191          0.2  \n",
       "38193     38192          0.3  \n",
       "38194     38193          0.4  \n",
       "...         ...          ...  \n",
       "42595     42589        449.7  \n",
       "42596     42590        449.8  \n",
       "42597     42591        449.9  \n",
       "42598     42592        450.0  \n",
       "42599     42593        450.1  \n",
       "\n",
       "[4405 rows x 13 columns]"
      ]
     },
     "execution_count": 25,
     "metadata": {},
     "output_type": "execute_result"
    }
   ],
   "source": [
    "grades_70.sort_values('RUNLENGTH_FROM')"
   ]
  },
  {
   "cell_type": "markdown",
   "id": "bb26a9b5-082d-4a38-847d-1f401585c6e9",
   "metadata": {},
   "source": [
    "##### Export to CSV\n"
   ]
  },
  {
   "cell_type": "code",
   "execution_count": 26,
   "id": "053f63b4-2e8a-4232-8051-75b3c56de5df",
   "metadata": {},
   "outputs": [],
   "source": [
    "grades_70.to_csv(f'{output_folder}/grades.csv', index=False)"
   ]
  },
  {
   "cell_type": "markdown",
   "id": "f87a4615-def4-4ab7-9040-5b6a14227b20",
   "metadata": {},
   "source": [
    "----"
   ]
  },
  {
   "cell_type": "markdown",
   "id": "f02d0421-d203-4f63-a53b-33a8eea9f904",
   "metadata": {},
   "source": [
    "## Defining the Mile Marker Dataset"
   ]
  },
  {
   "cell_type": "code",
   "execution_count": 27,
   "id": "01b0acf0-81c8-4233-9f6f-25da30d120f1",
   "metadata": {},
   "outputs": [],
   "source": [
    "mile_marker = pd.read_excel(filename,sheetname_mile_marker)"
   ]
  },
  {
   "cell_type": "markdown",
   "id": "6539dd2e-35ba-4d1e-849e-68d0eda28037",
   "metadata": {},
   "source": [
    "Examining the Data"
   ]
  },
  {
   "cell_type": "code",
   "execution_count": 28,
   "id": "32490905-37e8-40a2-9620-278e3137a53a",
   "metadata": {},
   "outputs": [
    {
     "data": {
      "text/plain": [
       "(11767, 10)"
      ]
     },
     "execution_count": 28,
     "metadata": {},
     "output_type": "execute_result"
    }
   ],
   "source": [
    "# mile_marker.info()\n",
    "mile_marker.shape\n",
    "# mile_marker.dtypes\n",
    "# mile_marker.duplicated().sum()\n",
    "# mile_marker.isna().sum()"
   ]
  },
  {
   "cell_type": "markdown",
   "id": "94b3fb03-f181-4885-a20b-6a60dda12071",
   "metadata": {},
   "source": [
    "#### The Mile Marker dataset\n",
    "- 11,767 Rows with 10 columns\n",
    "- There are 3 duplicated rows\n",
    "- The only columns that contain nulls are `COMMENTS` and `DATAFILE` \n",
    "    - 11,162 and 575 respectively"
   ]
  },
  {
   "cell_type": "markdown",
   "id": "b90df95a-8a06-45c4-ba8c-dba358e6b199",
   "metadata": {},
   "source": [
    "## Data Manipulation\n",
    "\n",
    "- The only relevant columns for my analysis are `the_geom`, `DATE_`, `SECTION_`, `PATROL`, `ROUTE`, `ROAD_TYPE`, and `REF_PT`\n",
    "    - I will drop the other columns\n",
    "- The coordinates in the 'the_geom' column are nested and need to be extracted into seperate columns\n",
    "- There are multiple 'REF_PT' that reference the same mile marker\n",
    "    - I will determine the apppropiate row and drop the additional\n",
    "- For my analysis am only interested in a specific route, so I will create a mask to segment only that data.\n"
   ]
  },
  {
   "cell_type": "markdown",
   "id": "e817f0c8-a67f-450f-b1aa-ee148adee5a7",
   "metadata": {},
   "source": [
    "----\n",
    "Dropping the unnecessary columns"
   ]
  },
  {
   "cell_type": "code",
   "execution_count": 29,
   "id": "14621777-9356-4cff-a8d8-b9208b917c28",
   "metadata": {},
   "outputs": [],
   "source": [
    "mile_marker.drop(columns = ['COMMENTS', 'DATAFILE','COLLECTOR', 'DATE_'], axis = 1, inplace = True)"
   ]
  },
  {
   "cell_type": "markdown",
   "id": "ab475df8-c911-4b7a-8d62-3389e2b72e3b",
   "metadata": {},
   "source": [
    "Extracting the Latitude and Longitude from the 'the_geom' column and dropping said column"
   ]
  },
  {
   "cell_type": "code",
   "execution_count": 30,
   "id": "9feaa252-dc9f-4a57-b06a-ba84ed51e77e",
   "metadata": {},
   "outputs": [],
   "source": [
    "mile_marker['latitude'] = mile_marker['the_geom'].apply(lambda x: float(x.replace('(','').split(' ')[1]))\n",
    "mile_marker['longitude'] = mile_marker['the_geom'].apply(lambda x: float(x.replace(')','').split(' ')[2]))"
   ]
  },
  {
   "cell_type": "code",
   "execution_count": 31,
   "id": "8f01240a-6045-439a-990d-789ee07d5777",
   "metadata": {},
   "outputs": [],
   "source": [
    "mile_marker.drop(columns = 'the_geom', axis = 1, inplace = True)"
   ]
  },
  {
   "cell_type": "markdown",
   "id": "3556c0e5-9cfe-4c8c-8043-7bb7878b395b",
   "metadata": {},
   "source": [
    "Defining a Mile Marker Identifier that can be linked to other datasets"
   ]
  },
  {
   "cell_type": "code",
   "execution_count": 32,
   "id": "3277e820-0b4e-4925-a925-f0d46c16a690",
   "metadata": {},
   "outputs": [],
   "source": [
    "mile_marker['mile_marker'] = mile_marker['REF_PT'].round(1)"
   ]
  },
  {
   "cell_type": "markdown",
   "id": "126bdeb1-2275-413e-9830-aace27cfbc72",
   "metadata": {},
   "source": [
    "Filtering the Mile Markers so the dataset only includes those on the Main Highway"
   ]
  },
  {
   "cell_type": "code",
   "execution_count": 33,
   "id": "e0c3b046-a845-4f51-8d5f-c83312d32051",
   "metadata": {},
   "outputs": [],
   "source": [
    "mile_marker = mile_marker[mile_marker['ROAD_TYPE'] == 'Main_Hwy']"
   ]
  },
  {
   "cell_type": "markdown",
   "id": "b2e03671-dbe3-4441-8bf7-2a92b4bcb971",
   "metadata": {},
   "source": [
    "Dropping all rows except the first instance of a mile marker value\n",
    "- Upon investigation all duplicated mile marker values shared similar coordinates"
   ]
  },
  {
   "cell_type": "code",
   "execution_count": 34,
   "id": "93ca1bb6-9df8-444a-a361-0d9f0175d5e0",
   "metadata": {},
   "outputs": [],
   "source": [
    "mile_marker.drop_duplicates(subset = 'mile_marker', inplace = True)"
   ]
  },
  {
   "cell_type": "markdown",
   "id": "63caef94-9621-4f3d-b45d-9ae0a4fbfd31",
   "metadata": {},
   "source": [
    "Filtering the data to only include those mile marker locations along the route we are interested in."
   ]
  },
  {
   "cell_type": "code",
   "execution_count": 35,
   "id": "3530cc2a-4c94-4b5a-b731-59bb77f63d64",
   "metadata": {},
   "outputs": [],
   "source": [
    "mile_marker_70 = mile_marker[mile_marker['ROUTE'] == '070A']"
   ]
  },
  {
   "cell_type": "code",
   "execution_count": 36,
   "id": "c75ca4bc-6d58-4d93-abea-d5b3c0356ca1",
   "metadata": {},
   "outputs": [
    {
     "data": {
      "text/plain": [
       "(29, 8)"
      ]
     },
     "execution_count": 36,
     "metadata": {},
     "output_type": "execute_result"
    }
   ],
   "source": [
    "# mile_marker_70.info()\n",
    "mile_marker_70.shape\n",
    "# mile_marker_70.dtypes\n",
    "# mile_marker_70.duplicated().sum()\n",
    "# mile_marker_70.isna().sum()"
   ]
  },
  {
   "cell_type": "markdown",
   "id": "eeea0a2e-faae-4a61-bb28-b325aedd671d",
   "metadata": {},
   "source": [
    "#### The Mile Marker 70 dataset\n",
    "- 29 Rows with 8 columns\n",
    "- There are no duplicated rows\n",
    "- There are not any null values"
   ]
  },
  {
   "cell_type": "markdown",
   "id": "ebc9766b-a857-40c4-9317-cf1e0d59fa8b",
   "metadata": {},
   "source": [
    "##### Export to CSV\n"
   ]
  },
  {
   "cell_type": "code",
   "execution_count": 37,
   "id": "7f5a9b1f-d259-49ee-8817-5eac200e6e8a",
   "metadata": {},
   "outputs": [],
   "source": [
    "mile_marker_70.to_csv(f'{output_folder}/mile_markers.csv', index=False)"
   ]
  },
  {
   "cell_type": "markdown",
   "id": "4b54eb9b-91f6-49ac-b109-c5f6cd914857",
   "metadata": {},
   "source": [
    "---\n",
    "\n",
    "## Defining the Highway Curve Dataset"
   ]
  },
  {
   "cell_type": "code",
   "execution_count": 38,
   "id": "deb8b92d-e027-400b-a18d-7ebc2deb648f",
   "metadata": {},
   "outputs": [],
   "source": [
    "curves = pd.read_excel(filename,sheetname_curves)"
   ]
  },
  {
   "cell_type": "markdown",
   "id": "ea624360-7ac9-4adf-8ec1-c19ce8f21c70",
   "metadata": {},
   "source": [
    "Examining the Data"
   ]
  },
  {
   "cell_type": "code",
   "execution_count": 39,
   "id": "670eefb5-522c-44a3-9591-32981f6a1d17",
   "metadata": {},
   "outputs": [
    {
     "data": {
      "text/plain": [
       "ROUTE                 0\n",
       "REFPT                 0\n",
       "ENDREFPT              0\n",
       "RUNLENGTH_FROM        0\n",
       "RUNLENGTH_TO          0\n",
       "SEG_LENGTH            0\n",
       "CURVE_UPDATEYR        0\n",
       "PRICURVE              0\n",
       "PRICURVECLASS         0\n",
       "SECCURVE          29832\n",
       "SECCURVECLASS     29832\n",
       "OBJECTID              0\n",
       "dtype: int64"
      ]
     },
     "execution_count": 39,
     "metadata": {},
     "output_type": "execute_result"
    }
   ],
   "source": [
    "# curves.info()\n",
    "# curves.shape\n",
    "# curves.dtypes\n",
    "# curves.duplicated().sum()\n",
    "curves.isna().sum()"
   ]
  },
  {
   "cell_type": "markdown",
   "id": "6dda9031-2953-4242-8968-c825686c2bb0",
   "metadata": {},
   "source": [
    "#### The Curves dataset\n",
    "- 29,832 Rows with 12 columns\n",
    "- There are no duplicated rows\n",
    "- The are 29,832 null values in `SECCURVE` and `SECCURVECLASS`\n",
    "    - It seems like curves were only measured in the primary direction \n",
    "    - Both columns can be dropped"
   ]
  },
  {
   "cell_type": "markdown",
   "id": "89875abe-0935-4011-afd7-9b9832defa05",
   "metadata": {},
   "source": [
    "Dropping unnecessary columns"
   ]
  },
  {
   "cell_type": "code",
   "execution_count": 40,
   "id": "a8310b53-deff-46d8-8cd7-b22c32f1e5b5",
   "metadata": {},
   "outputs": [],
   "source": [
    "curves.drop(columns = ['SECCURVE','SECCURVECLASS'], axis = 1, inplace = True)"
   ]
  },
  {
   "cell_type": "markdown",
   "id": "56423477-ce73-4ec8-aee2-b2d44e189daf",
   "metadata": {},
   "source": [
    "Creating a marker value to link to other datasets\n",
    "- The curvature is measured as arclength so for mile marker location I will use the center of the curve\n",
    "- Rounding to 1 decimal place to match the other mile markers"
   ]
  },
  {
   "cell_type": "code",
   "execution_count": 41,
   "id": "a0c5e6f5-0179-49e1-a449-d62a363d12a5",
   "metadata": {},
   "outputs": [],
   "source": [
    "curves['mile_marker'] = ((curves['RUNLENGTH_FROM'] + curves['RUNLENGTH_TO'])/2).round(1)"
   ]
  },
  {
   "cell_type": "markdown",
   "id": "eff71598-c2db-46a9-a8c3-a1cb42a6ecaf",
   "metadata": {},
   "source": [
    "Filtering out only the route I am interested in"
   ]
  },
  {
   "cell_type": "code",
   "execution_count": 42,
   "id": "b082a93f-9da2-4730-b97b-1e8d11f78bc8",
   "metadata": {},
   "outputs": [],
   "source": [
    "curves = curves[curves['ROUTE']=='070A']"
   ]
  },
  {
   "cell_type": "markdown",
   "id": "65346c47-7d8c-4e49-92de-cdf68049b0b5",
   "metadata": {},
   "source": [
    "There are 128 duplicate marker IDs\n",
    "   - After some examining it seems like some curves were designated twice\n",
    "       - But onc occurance has a `PRICURVE` value of -1 which denotes a straightline\n",
    "           - Dropped all duplicates with a `PRICURVE` value of -1"
   ]
  },
  {
   "cell_type": "code",
   "execution_count": 43,
   "id": "e3589812-5702-4245-af4a-c7a9620ff626",
   "metadata": {},
   "outputs": [],
   "source": [
    "curves = curves.iloc[abs(curves['PRICURVE']).argsort()].drop_duplicates(subset = 'mile_marker', keep = 'last')"
   ]
  },
  {
   "cell_type": "code",
   "execution_count": 44,
   "id": "098b9f52-44d4-4a82-8624-1cd8a180dca4",
   "metadata": {},
   "outputs": [],
   "source": [
    "curves = curves.rename(columns={'PRICURVE': 'EAST_CURVE', 'PRICURVECLASS': 'EAST_CURVECLASS'})"
   ]
  },
  {
   "cell_type": "markdown",
   "id": "4b58eb09-2671-4155-a7c6-04057c572937",
   "metadata": {},
   "source": [
    "##### Export to CSV\n"
   ]
  },
  {
   "cell_type": "code",
   "execution_count": 45,
   "id": "71e169f5-8b33-464b-801c-e14227e42f62",
   "metadata": {},
   "outputs": [],
   "source": [
    "curves.to_csv(f'{output_folder}/curves.csv', index=False)"
   ]
  },
  {
   "cell_type": "markdown",
   "id": "97c10f44-43c1-46af-9ab5-75b6c7f10624",
   "metadata": {},
   "source": [
    "---\n",
    "\n",
    "## Defining the Population Dataset"
   ]
  },
  {
   "cell_type": "code",
   "execution_count": 46,
   "id": "9e138ed4-1a73-4730-b07b-e7ef96bb1a17",
   "metadata": {},
   "outputs": [],
   "source": [
    "pop = pd.read_excel(filename,sheetname_pop)"
   ]
  },
  {
   "cell_type": "markdown",
   "id": "55b17e46-4a5e-42e7-913a-2c365ee66f81",
   "metadata": {},
   "source": [
    "Examining the Data"
   ]
  },
  {
   "cell_type": "code",
   "execution_count": 47,
   "id": "461c7655-74cf-4d60-be44-d09f195e2301",
   "metadata": {},
   "outputs": [
    {
     "data": {
      "text/plain": [
       "county             object\n",
       "year                int64\n",
       "totalPopulation     int64\n",
       "dtype: object"
      ]
     },
     "execution_count": 47,
     "metadata": {},
     "output_type": "execute_result"
    }
   ],
   "source": [
    "# pop.info()\n",
    "# pop.shape\n",
    "pop.dtypes\n",
    "# pop.duplicated().sum()\n",
    "# pop.isna().sum()"
   ]
  },
  {
   "cell_type": "markdown",
   "id": "b7a6c09b-3d43-4e75-9e15-0fb21cb447c8",
   "metadata": {},
   "source": [
    "#### The Population dataset\n",
    "- 3,904 Rows with 3 columns\n",
    "- There are no duplicated rows\n",
    "- The are zero null values"
   ]
  },
  {
   "cell_type": "markdown",
   "id": "8c57f13b-c3c4-4108-989c-efe5315fa6df",
   "metadata": {},
   "source": [
    "## Data Manipulation\n",
    "\n",
    "- I am only interested in the counties on the Front Range for my analysis\n",
    "    - Removing all Counties not on the Front Range\n",
    "- My traffic data includes the entire years from 2018-2022\n",
    "    - Remove all year outside this range"
   ]
  },
  {
   "cell_type": "code",
   "execution_count": 48,
   "id": "63fc78a7-a880-42db-8beb-62337bf9a8ab",
   "metadata": {},
   "outputs": [],
   "source": [
    "# keep_counties = ['Broomfield','Denver','Arapahoe', 'Boulder', 'Jefferson','Adams', 'Douglas']\n",
    "# pop_keep = pop['county'].isin(keep_counties)\n",
    "# pop = pop[pop_keep]"
   ]
  },
  {
   "cell_type": "code",
   "execution_count": 49,
   "id": "20cfeb5c-539d-4486-8ace-d2fba18961eb",
   "metadata": {},
   "outputs": [],
   "source": [
    "keep_years = list(range(2000,2023))\n",
    "pop_years = pop['year'].isin(keep_years)\n",
    "pop = pop[pop_years]"
   ]
  },
  {
   "cell_type": "markdown",
   "id": "5c1f3884-dd04-4d2f-8d7a-e7e418ef7054",
   "metadata": {},
   "source": [
    "##### Export to CSV"
   ]
  },
  {
   "cell_type": "code",
   "execution_count": 50,
   "id": "93bd9bee-b24b-4426-91ed-80603098c361",
   "metadata": {},
   "outputs": [],
   "source": [
    "pop.to_csv(f'{output_folder}/population.csv', index=False)"
   ]
  },
  {
   "cell_type": "markdown",
   "id": "31952fbf-e195-4a7b-b43b-ee7586596e5f",
   "metadata": {
    "tags": []
   },
   "source": [
    "----\n",
    "\n",
    "## Defining the Annual Traffic Dataset\n",
    " "
   ]
  },
  {
   "cell_type": "markdown",
   "id": "924253a3-4189-4eba-a8fb-d5bbca606c46",
   "metadata": {},
   "source": [
    "Importing all datasets from 2011 to 2021 and unioning them into one complete dataset"
   ]
  },
  {
   "cell_type": "code",
   "execution_count": 51,
   "id": "99e356d9-0fa8-4f1a-8142-912589d180f4",
   "metadata": {},
   "outputs": [
    {
     "name": "stderr",
     "output_type": "stream",
     "text": [
      "/Users/peter/opt/anaconda3/lib/python3.9/site-packages/openpyxl/worksheet/header_footer.py:48: UserWarning: Cannot parse header or footer so it will be ignored\n",
      "  warn(\"\"\"Cannot parse header or footer so it will be ignored\"\"\")\n"
     ]
    }
   ],
   "source": [
    "annual_traf = [] \n",
    "\n",
    "for i in range(2011, 2022):\n",
    "    df = pd.read_excel(f\"{os.getcwd()}/data/annual_traffic/CDOT_Traffic{i}.xlsx\",header = 0)\n",
    "    annual_traf.append(df)\n",
    "     \n",
    "traffic_all = pd.concat(annual_traf, ignore_index=True)"
   ]
  },
  {
   "cell_type": "markdown",
   "id": "ad5a9b98-2151-4e3a-a6cc-04aa9b528c4c",
   "metadata": {},
   "source": [
    "Defining the specific columns that are needed\n",
    "- When examining the data throughout the years it seems like the column names changed "
   ]
  },
  {
   "cell_type": "code",
   "execution_count": 52,
   "id": "e22b382e-d675-4952-9961-4f27b5f5f277",
   "metadata": {},
   "outputs": [],
   "source": [
    "keep_columns = ['COUNTSTATI', 'AADT', 'CALYR', 'COUNTSTATIONID', 'REFPT']\n",
    "traffic_all = traffic_all.loc[:, keep_columns]"
   ]
  },
  {
   "cell_type": "markdown",
   "id": "2bd9fca0-c5f5-4f81-ae92-7b531e89d880",
   "metadata": {},
   "source": [
    "Filling all null values in `COUNTSTATIONID` and setting as an interger before dropping the `COUNTSTATI` column"
   ]
  },
  {
   "cell_type": "code",
   "execution_count": 53,
   "id": "db884c5a-0391-4717-954b-001a75771458",
   "metadata": {},
   "outputs": [],
   "source": [
    "traffic_all['COUNTSTATIONID'].fillna(traffic_all['COUNTSTATI'], inplace = True)\n",
    "traffic_all['COUNTSTATIONID'] = traffic_all['COUNTSTATIONID'].astype(int)\n",
    "traffic_all.drop(columns = 'COUNTSTATI', inplace= True)"
   ]
  },
  {
   "cell_type": "markdown",
   "id": "e0aff026-8fd2-4289-b37c-47608e2340d8",
   "metadata": {},
   "source": [
    "Joining the `traffic_all` dataframe with the `stations` dataframe and dropped unnecessary columns"
   ]
  },
  {
   "cell_type": "code",
   "execution_count": 54,
   "id": "85e70007-c09f-4c77-989c-57f9b8727e5b",
   "metadata": {},
   "outputs": [],
   "source": [
    "traffic_merged = pd.merge(stations,traffic_all, left_on = 'StationID',right_on ='COUNTSTATIONID', how = 'left')\n",
    "traffic_merged.drop(columns = ['Functional Class','Rural Urban','COUNTSTATIONID'], inplace = True)"
   ]
  },
  {
   "cell_type": "markdown",
   "id": "a3376778-b551-4832-86d8-3d6cf7d676e4",
   "metadata": {},
   "source": [
    "Separating out the unique Station IDs in order to build a dictionary of consecutive stations "
   ]
  },
  {
   "cell_type": "code",
   "execution_count": 55,
   "id": "eedb26fc-7716-4865-831f-138826cc291f",
   "metadata": {},
   "outputs": [],
   "source": [
    "traffic_merged_unique = traffic_merged.drop_duplicates(subset=['StationID'], keep='first')\n",
    "traffic_merged_unique = traffic_merged_unique.sort_values('REFPT')\n",
    "traffic_merged_unique.loc[:, 'next_station'] = traffic_merged_unique['StationID'].shift(1)"
   ]
  },
  {
   "cell_type": "code",
   "execution_count": 56,
   "id": "6d9da3a7-ab2b-43ed-8672-70e987703028",
   "metadata": {},
   "outputs": [
    {
     "data": {
      "text/plain": [
       "{104: nan,\n",
       " 103011: 104.0,\n",
       " 105: 103011.0,\n",
       " 11: 105.0,\n",
       " 126: 11.0,\n",
       " 119: 126.0,\n",
       " 106: 119.0,\n",
       " 120: 106.0,\n",
       " 107: 120.0,\n",
       " 510: 107.0,\n",
       " 511: 510.0,\n",
       " 103078: 511.0,\n",
       " 2: 103078.0,\n",
       " 108: 2.0,\n",
       " 14: 108.0,\n",
       " 109: 14.0}"
      ]
     },
     "execution_count": 56,
     "metadata": {},
     "output_type": "execute_result"
    }
   ],
   "source": [
    "station_dict = traffic_merged_unique.drop(columns = [ 'County', 'Location', 'Directions', 'Latitude','Longitude', 'AADT', 'CALYR', 'REFPT'])\n",
    "station_dict.set_index('StationID')['next_station'].to_dict()"
   ]
  },
  {
   "cell_type": "code",
   "execution_count": 58,
   "id": "7605b54d-ddc7-41db-b982-79ceccc2cb7b",
   "metadata": {
    "tags": []
   },
   "outputs": [],
   "source": [
    "dict_1= {104:None, 103011:104,105:103011,11:105,126:11,119:126,106:119,120:106,107:120,510:107,511:510,103078:511,2:103078,108:2,14:108,109:14}"
   ]
  },
  {
   "cell_type": "code",
   "execution_count": 59,
   "id": "2c0796c3-4ac5-465b-97d7-130b74214076",
   "metadata": {},
   "outputs": [],
   "source": [
    "traffic_merged['to_station'] = traffic_merged['StationID'].apply(lambda x: dict_1[x])\n",
    "traffic_merged.dropna(subset = ['to_station'], axis = 0,inplace = True)"
   ]
  },
  {
   "cell_type": "code",
   "execution_count": 60,
   "id": "8511d19e-a456-4bbe-8a3b-051fd46a988f",
   "metadata": {},
   "outputs": [],
   "source": [
    "traffic_merged = pd.merge(traffic_merged,stations, right_on = 'StationID',left_on ='to_station', how = 'left', suffixes=('_start', '_end'))\n",
    "traffic_merged;"
   ]
  },
  {
   "cell_type": "markdown",
   "id": "b5a3608d-3985-4480-9ccc-d922fc408556",
   "metadata": {},
   "source": [
    "##### Export to CSV"
   ]
  },
  {
   "cell_type": "code",
   "execution_count": 61,
   "id": "066e5ee0-7e4e-4148-b6ae-250867d6e70f",
   "metadata": {},
   "outputs": [],
   "source": [
    "traffic_merged.to_csv(f'{output_folder}/traffic_merged.csv', index=False)"
   ]
  },
  {
   "cell_type": "markdown",
   "id": "b7994c22-97e2-4dc0-b042-2b6a7f232001",
   "metadata": {},
   "source": [
    "----"
   ]
  }
 ],
 "metadata": {
  "kernelspec": {
   "display_name": "Python 3 (ipykernel)",
   "language": "python",
   "name": "python3"
  },
  "language_info": {
   "codemirror_mode": {
    "name": "ipython",
    "version": 3
   },
   "file_extension": ".py",
   "mimetype": "text/x-python",
   "name": "python",
   "nbconvert_exporter": "python",
   "pygments_lexer": "ipython3",
   "version": "3.9.7"
  }
 },
 "nbformat": 4,
 "nbformat_minor": 5
}
